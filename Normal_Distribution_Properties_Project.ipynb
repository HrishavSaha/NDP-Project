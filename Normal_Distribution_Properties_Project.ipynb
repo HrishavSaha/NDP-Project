{
  "nbformat": 4,
  "nbformat_minor": 0,
  "metadata": {
    "colab": {
      "name": "Normal Distribution Properties Project",
      "provenance": [],
      "collapsed_sections": [],
      "authorship_tag": "ABX9TyMmdkMS4A4aTiulJKKweobo",
      "include_colab_link": true
    },
    "kernelspec": {
      "name": "python3",
      "display_name": "Python 3"
    },
    "language_info": {
      "name": "python"
    }
  },
  "cells": [
    {
      "cell_type": "markdown",
      "metadata": {
        "id": "view-in-github",
        "colab_type": "text"
      },
      "source": [
        "<a href=\"https://colab.research.google.com/github/HrishavSaha/NDP-Project/blob/main/Normal_Distribution_Properties_Project.ipynb\" target=\"_parent\"><img src=\"https://colab.research.google.com/assets/colab-badge.svg\" alt=\"Open In Colab\"/></a>"
      ]
    },
    {
      "cell_type": "code",
      "execution_count": null,
      "metadata": {
        "id": "8Z4Gmdn0V2XW"
      },
      "outputs": [],
      "source": [
        "from google.colab import files\n",
        "files.upload()"
      ]
    },
    {
      "cell_type": "code",
      "source": [
        "import pandas as pd\n",
        "import statistics"
      ],
      "metadata": {
        "id": "K7PbEdvrY4qD"
      },
      "execution_count": null,
      "outputs": []
    },
    {
      "cell_type": "code",
      "source": [
        "df = pd.read_csv(\"StudentsPerformance.csv\")\n",
        "writScore = df[\"writing score\"]"
      ],
      "metadata": {
        "id": "NIXSYbZmZEqj"
      },
      "execution_count": null,
      "outputs": []
    },
    {
      "cell_type": "markdown",
      "source": [
        "Data for Writing Score:"
      ],
      "metadata": {
        "id": "pTp9ssLYaYwj"
      }
    },
    {
      "cell_type": "code",
      "source": [
        "mean = statistics.mean(writScore)\n",
        "median = statistics.median(writScore)\n",
        "mode = statistics.mode(writScore)\n",
        "\n",
        "print(\"Mean: \"+ str(mean))\n",
        "print(\"Median: \"+ str(median))\n",
        "print(\"Mode: \"+ str(mode))"
      ],
      "metadata": {
        "colab": {
          "base_uri": "https://localhost:8080/"
        },
        "id": "URLzC1weZ1hr",
        "outputId": "fe5b3cbc-819d-4e33-9b63-705babde8b09"
      },
      "execution_count": null,
      "outputs": [
        {
          "output_type": "stream",
          "name": "stdout",
          "text": [
            "Mean: 68.054\n",
            "Median: 69.0\n",
            "Mode: 74\n"
          ]
        }
      ]
    },
    {
      "cell_type": "code",
      "source": [
        "stdev = statistics.stdev(writScore)\n",
        "\n",
        "print(\"Standard Deviation: \"+ str(stdev))"
      ],
      "metadata": {
        "colab": {
          "base_uri": "https://localhost:8080/"
        },
        "id": "iE9e7Dp0aXtL",
        "outputId": "e94e3e20-6018-4d0f-aafd-cb7e1a3971cf"
      },
      "execution_count": null,
      "outputs": [
        {
          "output_type": "stream",
          "name": "stdout",
          "text": [
            "Standard Deviation: 15.19565701086965\n"
          ]
        }
      ]
    },
    {
      "cell_type": "code",
      "source": [
        "percentage = []\n",
        "\n",
        "for i in range(1,4):\n",
        "  counter = []\n",
        "  neg_stdev = mean - (i*stdev)\n",
        "  pos_stdev = mean + (i*stdev)\n",
        "  for val in writScore:\n",
        "    if val > neg_stdev and val < pos_stdev:\n",
        "      counter.append(val)\n",
        "  percent = (len(counter)/len(writScore))*100\n",
        "  percentage.append(percent)\n",
        "\n",
        "print(str(percentage[0]) + \"% of the data lies within 1 standard deviation.\")\n",
        "print(str(percentage[1]) + \"% of the data lies within 2 standard deviations.\")\n",
        "print(str(percentage[2]) + \"% of the data lies within 3 standard deviations.\")"
      ],
      "metadata": {
        "id": "l26ru8nccGxC",
        "colab": {
          "base_uri": "https://localhost:8080/"
        },
        "outputId": "cac6be1d-f976-430c-b84b-6d5cfee5be33"
      },
      "execution_count": null,
      "outputs": [
        {
          "output_type": "stream",
          "name": "stdout",
          "text": [
            "68.8% of the data lies within 1 standard deviation.\n",
            "95.8% of the data lies within 2 standard deviations.\n",
            "99.6% of the data lies within 3 standard deviations.\n"
          ]
        }
      ]
    }
  ]
}